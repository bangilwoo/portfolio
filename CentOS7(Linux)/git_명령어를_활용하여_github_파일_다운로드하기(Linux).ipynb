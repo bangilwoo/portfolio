{
  "nbformat": 4,
  "nbformat_minor": 0,
  "metadata": {
    "colab": {
      "name": "git 명령어를 활용하여 github 파일 다운로드하기(Linux).ipynb",
      "provenance": [],
      "collapsed_sections": []
    },
    "kernelspec": {
      "name": "python3",
      "display_name": "Python 3"
    }
  },
  "cells": [
    {
      "cell_type": "markdown",
      "metadata": {
        "id": "oybHiWhDA-3-"
      },
      "source": [
        "## Linux 에서 git 연결하기\r\n",
        "\r\n",
        "git은 소스코드의 효율적인 관리를 위한 형상 관리 도구<br>\r\n",
        "git을 사용하면 소스코드를 계속해서 주고 받을 필요가 없으며 같은 파일에 대해 여러명이 동시에 작업을 할 수가 있기 때문에 생산성이 매우 용이\r\n",
        "\r\n",
        "**git 패키지 다운로드**\r\n",
        "\r\n",
        "git을 연동 시키기 위해서는 Linux 환경에서 git 패키지를 설치<br>\r\n",
        "Linux에서 패키지를 설치 하기 위해서는 yum 명령어를 사용하여 설치\r\n",
        "\r\n",
        "```\r\n",
        "sudo yum -y install git\r\n",
        "```\r\n",
        "\r\n",
        "**git 파일 다운로드**\r\n",
        "\r\n",
        "패키지를 설치 했다면 사용하고자 하는 git 파일의 주소를 복사하여 터미널에서 실행\r\n",
        "\r\n",
        "```\r\n",
        "git clone {git파일의 주소}\r\n",
        "```\r\n",
        "\r\n",
        "- git파일 다운로드 시 rood계정으로 진행"
      ]
    }
  ]
}